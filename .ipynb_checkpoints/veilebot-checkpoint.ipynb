{
 "cells": [
  {
   "cell_type": "code",
   "execution_count": 8,
   "id": "595e47c6-6a2a-4d90-a9d5-af3aa6be3870",
   "metadata": {
    "scrolled": true
   },
   "outputs": [
    {
     "name": "stdout",
     "output_type": "stream",
     "text": [
      "Requirement already satisfied: line-bot-sdk in c:\\users\\user\\appdata\\local\\programs\\python\\python310\\lib\\site-packages (3.5.0)\n",
      "Requirement already satisfied: future in c:\\users\\user\\appdata\\local\\programs\\python\\python310\\lib\\site-packages (from line-bot-sdk) (0.18.3)\n",
      "Requirement already satisfied: pydantic<3,>=2.0.3 in c:\\users\\user\\appdata\\local\\programs\\python\\python310\\lib\\site-packages (from line-bot-sdk) (2.4.2)\n",
      "Requirement already satisfied: aiohttp==3.8.5 in c:\\users\\user\\appdata\\local\\programs\\python\\python310\\lib\\site-packages (from line-bot-sdk) (3.8.5)\n",
      "Requirement already satisfied: requests==2.31.0 in c:\\users\\user\\appdata\\local\\programs\\python\\python310\\lib\\site-packages (from line-bot-sdk) (2.31.0)\n",
      "Requirement already satisfied: Deprecated in c:\\users\\user\\appdata\\local\\programs\\python\\python310\\lib\\site-packages (from line-bot-sdk) (1.2.14)\n",
      "Requirement already satisfied: python-dateutil>=2.5.3 in c:\\users\\user\\appdata\\local\\programs\\python\\python310\\lib\\site-packages (from line-bot-sdk) (2.8.2)\n",
      "Requirement already satisfied: aenum>=3.1.11 in c:\\users\\user\\appdata\\local\\programs\\python\\python310\\lib\\site-packages (from line-bot-sdk) (3.1.15)\n",
      "Requirement already satisfied: aiosignal>=1.1.2 in c:\\users\\user\\appdata\\local\\programs\\python\\python310\\lib\\site-packages (from aiohttp==3.8.5->line-bot-sdk) (1.3.1)\n",
      "Requirement already satisfied: charset-normalizer<4.0,>=2.0 in c:\\users\\user\\appdata\\local\\programs\\python\\python310\\lib\\site-packages (from aiohttp==3.8.5->line-bot-sdk) (3.3.2)\n",
      "Requirement already satisfied: frozenlist>=1.1.1 in c:\\users\\user\\appdata\\local\\programs\\python\\python310\\lib\\site-packages (from aiohttp==3.8.5->line-bot-sdk) (1.4.0)\n",
      "Requirement already satisfied: yarl<2.0,>=1.0 in c:\\users\\user\\appdata\\local\\programs\\python\\python310\\lib\\site-packages (from aiohttp==3.8.5->line-bot-sdk) (1.9.2)\n",
      "Requirement already satisfied: attrs>=17.3.0 in c:\\users\\user\\appdata\\local\\programs\\python\\python310\\lib\\site-packages (from aiohttp==3.8.5->line-bot-sdk) (23.1.0)\n",
      "Requirement already satisfied: multidict<7.0,>=4.5 in c:\\users\\user\\appdata\\local\\programs\\python\\python310\\lib\\site-packages (from aiohttp==3.8.5->line-bot-sdk) (6.0.4)\n",
      "Requirement already satisfied: async-timeout<5.0,>=4.0.0a3 in c:\\users\\user\\appdata\\local\\programs\\python\\python310\\lib\\site-packages (from aiohttp==3.8.5->line-bot-sdk) (4.0.3)\n",
      "Requirement already satisfied: urllib3<3,>=1.21.1 in c:\\users\\user\\appdata\\local\\programs\\python\\python310\\lib\\site-packages (from requests==2.31.0->line-bot-sdk) (2.0.7)\n",
      "Requirement already satisfied: certifi>=2017.4.17 in c:\\users\\user\\appdata\\local\\programs\\python\\python310\\lib\\site-packages (from requests==2.31.0->line-bot-sdk) (2023.7.22)\n",
      "Requirement already satisfied: idna<4,>=2.5 in c:\\users\\user\\appdata\\local\\programs\\python\\python310\\lib\\site-packages (from requests==2.31.0->line-bot-sdk) (3.4)\n",
      "Requirement already satisfied: pydantic-core==2.10.1 in c:\\users\\user\\appdata\\local\\programs\\python\\python310\\lib\\site-packages (from pydantic<3,>=2.0.3->line-bot-sdk) (2.10.1)\n",
      "Requirement already satisfied: annotated-types>=0.4.0 in c:\\users\\user\\appdata\\local\\programs\\python\\python310\\lib\\site-packages (from pydantic<3,>=2.0.3->line-bot-sdk) (0.6.0)\n",
      "Requirement already satisfied: typing-extensions>=4.6.1 in c:\\users\\user\\appdata\\local\\programs\\python\\python310\\lib\\site-packages (from pydantic<3,>=2.0.3->line-bot-sdk) (4.8.0)\n",
      "Requirement already satisfied: six>=1.5 in c:\\users\\user\\appdata\\local\\programs\\python\\python310\\lib\\site-packages (from python-dateutil>=2.5.3->line-bot-sdk) (1.16.0)\n",
      "Requirement already satisfied: wrapt<2,>=1.10 in c:\\users\\user\\appdata\\local\\programs\\python\\python310\\lib\\site-packages (from Deprecated->line-bot-sdk) (1.15.0)\n"
     ]
    },
    {
     "name": "stderr",
     "output_type": "stream",
     "text": [
      "\n",
      "[notice] A new release of pip available: 22.3.1 -> 23.3.1\n",
      "[notice] To update, run: python.exe -m pip install --upgrade pip\n"
     ]
    }
   ],
   "source": [
    "!pip install line-bot-sdk"
   ]
  },
  {
   "cell_type": "code",
   "execution_count": null,
   "id": "480f0932-b24b-445c-8c04-5afb93a61078",
   "metadata": {},
   "outputs": [],
   "source": []
  },
  {
   "cell_type": "code",
   "execution_count": 7,
   "id": "c982f374-19b0-4c84-a0ec-d8ee35d6fd97",
   "metadata": {},
   "outputs": [],
   "source": [
    "import json\n",
    "file = open('info.json', 'r')\n",
    "info = json.load(file)"
   ]
  },
  {
   "cell_type": "code",
   "execution_count": 9,
   "id": "27dafc82-92a2-45c4-8b29-b560ccfef9af",
   "metadata": {},
   "outputs": [
    {
     "data": {
      "text/plain": [
       "{'CHANNEL_ACCESS_TOKEN': 'EDgCBR7nZAcfwBj/J88Rs0MJEYCbN7eT8ZYpNE0HiX/49oAa5c8ZYK1920cgEN/dGKHRkd6RsXG7NLHCMnB6eay1LExwacEBwPWH8LNp5yQU09TJsq7YnjGp/DhBOfhqyzIqN3DQuI8RvuGP4hbWRQdB04t89/1O/w1cDnyilFU=',\n",
       " 'USER_ID': 'U462ec96f180c660f6f4fb28a1262a862'}"
      ]
     },
     "execution_count": 9,
     "metadata": {},
     "output_type": "execute_result"
    }
   ],
   "source": [
    "info"
   ]
  },
  {
   "cell_type": "code",
   "execution_count": 19,
   "id": "eacce0fa-14bd-4255-be9e-9ef19d5ba18b",
   "metadata": {},
   "outputs": [],
   "source": [
    "from linebot import LineBotApi\n",
    "from linebot.models import TextSendMessage"
   ]
  },
  {
   "cell_type": "code",
   "execution_count": 18,
   "id": "be15d7cd-38d1-4e03-a142-0903d63a4767",
   "metadata": {},
   "outputs": [
    {
     "name": "stderr",
     "output_type": "stream",
     "text": [
      "C:\\Users\\user\\AppData\\Local\\Temp\\ipykernel_22180\\4079338703.py:2: LineBotSdkDeprecatedIn30: Call to deprecated class LineBotApi. (Use v3 class; linebot.v3.<feature>. See https://github.com/line/line-bot-sdk-python/blob/master/README.rst for more details.) -- Deprecated since version 3.0.0.\n",
      "  line_bot_api = LineBotApi(CHANNEL_ACCESS_TOKEN)\n"
     ]
    }
   ],
   "source": [
    "CHANNEL_ACCESS_TOKEN = info['CHANNEL_ACCESS_TOKEN']\n",
    "line_bot_api = LineBotApi(CHANNEL_ACCESS_TOKEN)"
   ]
  },
  {
   "cell_type": "code",
   "execution_count": 22,
   "id": "13b9d2e8-5ff4-4960-b8f0-c05939ed0834",
   "metadata": {},
   "outputs": [
    {
     "name": "stderr",
     "output_type": "stream",
     "text": [
      "C:\\Users\\user\\AppData\\Local\\Temp\\ipykernel_22180\\334036644.py:4: LineBotSdkDeprecatedIn30: Call to deprecated method push_message. (Use 'from linebot.v3.messaging import MessagingApi' and 'MessagingApi(...).push_message(...)' instead. See https://github.com/line/line-bot-sdk-python/blob/master/README.rst for more details.) -- Deprecated since version 3.0.0.\n",
      "  line_bot_api.push_message(USER_ID, messages=messages)\n"
     ]
    }
   ],
   "source": [
    "def main():\n",
    "    USER_ID = info['USER_ID']\n",
    "    messages = TextSendMessage(text=\"おはよう～ \\n あああ\")\n",
    "    line_bot_api.push_message(USER_ID, messages=messages)\n",
    "\n",
    "if __name__ == \"__main__\":\n",
    "    main()"
   ]
  },
  {
   "cell_type": "code",
   "execution_count": null,
   "id": "b61f8046-53a1-4e2d-a815-9e1c553220f8",
   "metadata": {},
   "outputs": [],
   "source": []
  },
  {
   "cell_type": "code",
   "execution_count": null,
   "id": "794db3c1-fc0b-4730-b2cd-b129fc923514",
   "metadata": {},
   "outputs": [],
   "source": []
  },
  {
   "cell_type": "code",
   "execution_count": null,
   "id": "da10762b-a338-45fb-b508-4b48b9362097",
   "metadata": {},
   "outputs": [],
   "source": []
  }
 ],
 "metadata": {
  "kernelspec": {
   "display_name": "Python 3 (ipykernel)",
   "language": "python",
   "name": "python3"
  },
  "language_info": {
   "codemirror_mode": {
    "name": "ipython",
    "version": 3
   },
   "file_extension": ".py",
   "mimetype": "text/x-python",
   "name": "python",
   "nbconvert_exporter": "python",
   "pygments_lexer": "ipython3",
   "version": "3.10.9"
  }
 },
 "nbformat": 4,
 "nbformat_minor": 5
}
